{
  "nbformat": 4,
  "nbformat_minor": 0,
  "metadata": {
    "colab": {
      "provenance": []
    },
    "kernelspec": {
      "name": "python3",
      "display_name": "Python 3"
    },
    "language_info": {
      "name": "python"
    }
  },
  "cells": [
    {
      "cell_type": "markdown",
      "source": [
        "# 🤖 AgentPro Quick Start Guide\n",
        "\n",
        "This notebook will walk you through how to set up and use [AgentPro](https://github.com/traversaal-ai/AgentPro) — a production-ready open-source agent framework built by [Traversaal.ai](https://traversaal.ai) for building powerful, modular, and multi-functional AI agents.\n",
        "\n",
        "### What is AgentPro?\n",
        "AgentPro lets you build intelligent agents that can:\n",
        "- Use language models (like OpenAI’s GPT) as reasoning engines\n",
        "- Solve real-world tasks such as research, automation, and knowledge retrieval\n",
        "- Scale up with custom tools, memory, and orchestration features\n",
        "\n",
        "Whether you're a developer, researcher, or AI enthusiast — this guide will help you:\n",
        "- Set up AgentPro in minutes  \n",
        "- Run and customize your first agent\n"
      ],
      "metadata": {
        "id": "CyxnkWVzhqOi"
      }
    },
    {
      "cell_type": "markdown",
      "source": [
        "## Step 1: Clone AgentPro and Install Dependencies\n",
        "\n",
        "To get started with AgentPro, begin by cloning the official GitHub repository and installing its dependencies."
      ],
      "metadata": {
        "id": "Fi5Eth4ge70O"
      }
    },
    {
      "cell_type": "code",
      "execution_count": 1,
      "metadata": {
        "colab": {
          "base_uri": "https://localhost:8080/"
        },
        "id": "tCGHQVf-Q2Zj",
        "outputId": "ae19b797-1692-4e95-8bda-73028a3c6033"
      },
      "outputs": [
        {
          "output_type": "stream",
          "name": "stdout",
          "text": [
            "  Installing build dependencies ... \u001b[?25l\u001b[?25hdone\n",
            "  Getting requirements to build wheel ... \u001b[?25l\u001b[?25hdone\n",
            "  Preparing metadata (pyproject.toml) ... \u001b[?25l\u001b[?25hdone\n",
            "\u001b[2K   \u001b[90m━━━━━━━━━━━━━━━━━━━━━━━━━━━━━━━━━━━━━━━━\u001b[0m \u001b[32m7.9/7.9 MB\u001b[0m \u001b[31m68.4 MB/s\u001b[0m eta \u001b[36m0:00:00\u001b[0m\n",
            "\u001b[2K   \u001b[90m━━━━━━━━━━━━━━━━━━━━━━━━━━━━━━━━━━━━━━━━\u001b[0m \u001b[32m472.8/472.8 kB\u001b[0m \u001b[31m23.1 MB/s\u001b[0m eta \u001b[36m0:00:00\u001b[0m\n",
            "\u001b[2K   \u001b[90m━━━━━━━━━━━━━━━━━━━━━━━━━━━━━━━━━━━━━━━━\u001b[0m \u001b[32m2.2/2.2 MB\u001b[0m \u001b[31m35.9 MB/s\u001b[0m eta \u001b[36m0:00:00\u001b[0m\n",
            "\u001b[2K   \u001b[90m━━━━━━━━━━━━━━━━━━━━━━━━━━━━━━━━━━━━━━━━\u001b[0m \u001b[32m3.3/3.3 MB\u001b[0m \u001b[31m59.0 MB/s\u001b[0m eta \u001b[36m0:00:00\u001b[0m\n",
            "\u001b[2K   \u001b[90m━━━━━━━━━━━━━━━━━━━━━━━━━━━━━━━━━━━━━━━━\u001b[0m \u001b[32m169.4/169.4 kB\u001b[0m \u001b[31m10.1 MB/s\u001b[0m eta \u001b[36m0:00:00\u001b[0m\n",
            "\u001b[?25h  Building wheel for agentpro (pyproject.toml) ... \u001b[?25l\u001b[?25hdone\n"
          ]
        }
      ],
      "source": [
        "!pip install git+https://github.com/traversaal-ai/AgentPro.git -q"
      ]
    },
    {
      "cell_type": "markdown",
      "source": [
        "## Step 2: Set Your API Key"
      ],
      "metadata": {
        "id": "SLfWC5m9fUpT"
      }
    },
    {
      "cell_type": "markdown",
      "source": [
        "To use OpenAI models with AgentPro, you’ll need an API key from OpenAI. Follow these steps:\n",
        "\n",
        "1. Go to the [OpenAI API platform](https://platform.openai.com/)\n",
        "2. Log in or create an account\n",
        "3. Create new secret key\n",
        "4. Copy the generated key and paste it into the notebook like this:"
      ],
      "metadata": {
        "id": "2vlEmkaNgjwm"
      }
    },
    {
      "cell_type": "code",
      "source": [
        "import os\n",
        "os.environ[\"OPENAI_API_KEY\"] = \"\""
      ],
      "metadata": {
        "id": "4tV4Qe1RUGcI"
      },
      "execution_count": 3,
      "outputs": []
    },
    {
      "cell_type": "markdown",
      "source": [
        "For Ares api key, follow these steps:\n",
        "\n",
        "1. Go to the [Traversaal API platform](https://api.traversaal.ai/)\n",
        "2. Log in or create an account.\n",
        "3. Generate your Ares API key from the dashboard."
      ],
      "metadata": {
        "id": "Fjd9eMeLcw5J"
      }
    },
    {
      "cell_type": "code",
      "source": [
        "os.environ[\"ARES_API_KEY\"] = \"\""
      ],
      "metadata": {
        "id": "UxxcnYJJcsab"
      },
      "execution_count": 4,
      "outputs": []
    },
    {
      "cell_type": "markdown",
      "source": [
        "## Step 3: Run Your First Query with AgentPro\n",
        "\n",
        "Now that everything is set up, you can quickly start using AgentPro in Python."
      ],
      "metadata": {
        "id": "Ie2HiLZ6Zjsj"
      }
    },
    {
      "cell_type": "code",
      "source": [
        "import os\n",
        "from agentpro import ReactAgent\n",
        "from agentpro.tools import AresInternetTool\n",
        "from agentpro import create_model\n",
        "\n",
        "# Create a model with OpenAI\n",
        "model = create_model(provider=\"openai\", model_name=\"gpt-4o\", api_key=os.getenv(\"OPENAI_API_KEY\", None))\n",
        "\n",
        "# Initialize tools\n",
        "tools = [AresInternetTool(os.getenv(\"ARES_API_KEY\", None))]\n",
        "\n",
        "# Initialize agent\n",
        "agent = ReactAgent(model=model, tools=tools)\n",
        "\n",
        "# Run a query\n",
        "query = \"What is the height of the Eiffel Tower?\"\n",
        "response = agent.run(query)\n",
        "\n",
        "print(f\"\\nFinal Answer: {response.final_answer}\")"
      ],
      "metadata": {
        "colab": {
          "base_uri": "https://localhost:8080/"
        },
        "id": "OYCKuZvYT4f6",
        "outputId": "ae6e44f1-be0a-4cc3-ffe0-5595f39f3bff"
      },
      "execution_count": 5,
      "outputs": [
        {
          "output_type": "stream",
          "name": "stdout",
          "text": [
            "================================================== Iteration 1 \n",
            "✅  [Debug] Sending System Prompt (with history) to LLM:\n",
            "You are an AI assistant that follows the ReAct (Reasoning + Acting) pattern.\n",
            "        \n",
            "Your goal is to help users by breaking down complex tasks into a series of thought-out steps and actions.\n",
            "\n",
            "You have access to these tools: ares_internet_search\n",
            "\n",
            "Tool: Ares Internet Search\n",
            "Description: Uses Ares API to search live and detailed information from the internet and returns a clean summary and related links.\n",
            "Action Type: ares_internet_search\n",
            "Input Format: A search query as a string. Example: 'Best restaurants in San Francisco'\n",
            "\n",
            "\n",
            "Your task is to:\n",
            "1. Think about what action is required — Thought.\n",
            "2. Take an appropriate action — Action.\n",
            "3. Repeat Thought/Action as needed until you find the final answer.\n",
            "\n",
            "### Format (Choose only one per response)\n",
            "\n",
            "Option 1 — When action is needed:\n",
            "Thought: Your reasoning about action and observation.\n",
            "Action: {\"action_type\": \"<action_type>\", \"input\": <input_data>}\n",
            "\n",
            "Option 2 — When you're confident in the final response:\n",
            "Thought: Now I know the answer that will be given in Final Answer.\n",
            "Final Answer: Provide a complete, well-structured response that directly addresses the original question.\n",
            "\n",
            "### Important:\n",
            "- Think step-by-step.\n",
            "- Never provide both Action and Final Answer or multiple Action in the same response.\n",
            "- Use available tools wisely.\n",
            "- If stuck, reflect and retry but never hallucinate.\n",
            "- If observation is empty or not related, reflect and retry but never hallucinate.\n",
            "- The current date is May 25, 2025.\n",
            "- If you follow the format strictly, you will be recognized as an excellent and trustworthy AI assistant.\n",
            "\n",
            "\n",
            "Question: What is the height of the Eiffel Tower?\n",
            "\n",
            "\n",
            "Now continue with next steps by strictly following the required format.\n",
            "\n",
            "==================================================\n",
            "🤖 [Debug] Step LLM Response:\n",
            "Thought: To find the most accurate and up-to-date information regarding the height of the Eiffel Tower, I should perform an internet search.\n",
            "Action: {\"action_type\": \"ares_internet_search\", \"input\": \"current height of the Eiffel Tower\"}\n",
            "✅ Parsed Thought: To find the most accurate and up-to-date information regarding the height of the Eiffel Tower, I should perform an internet search.\n",
            "✅ Parsed Action JSON: {\"action_type\": \"ares_internet_search\", \"input\": \"current height of the Eiffel Tower\"}\n",
            "✅ Parsed Action Results: Search Summary:\n",
            "1. The current height of the Eiffel Tower in 2025 is 1,083 feet (approximately 330 meters), including the antennas added over time.\n",
            "\n",
            "2. The original height of the Eiffel Tower without the antennas was 1,024 feet (approximately 312 meters). \n",
            "\n",
            "For more details, you can visit the following links:\n",
            "- [Eiffel Tower Facts](https://www.toureiffel.paris/en/the-monument/key-figures)\n",
            "- [Britannica on Eiffel Tower](https://www.britannica.com/topic/Eiffel-Tower-Paris-France)\n",
            "- [Visit the Eiffel Tower 2025](https://www.city-paris.fr/en/visit-the-eiffel-tower/)\n",
            "\n",
            "Related Links:\n",
            "1. https://www.toureiffel.paris/en/the-monument/key-figures\n",
            "2. https://www.britannica.com/topic/Eiffel-Tower-Paris-France\n",
            "3. https://www.city-paris.fr/en/visit-the-eiffel-tower/\n",
            "4. https://parisjetaime.com/eng/article/explore-the-eiffel-tower-a1068\n",
            "5. https://www.worldatlas.com/articles/how-tall-is-the-eiffel-tower.html\n",
            "6. https://age.ninja/others/Eiffel-Tower\n",
            "7. https://funfactfriyay.com/p/eiffel-tower\n",
            "8. https://robbreport.com/travel/destinations/why-eiffel-tower-20-feet-taller-1234669601/\n",
            "================================================== Iteration 2 \n",
            "🤖 [Debug] Step LLM Response:\n",
            "Thought: I have found the necessary information regarding the height of the Eiffel Tower, which includes both the original height and the current height with antennas.\n",
            "\n",
            "Final Answer: The current height of the Eiffel Tower in 2025 is 1,083 feet (approximately 330 meters), including the antennas added over time. Originally, without the antennas, the Eiffel Tower was 1,024 feet (approximately 312 meters) tall.\n",
            "✅ Parsed Thought: I have found the necessary information regarding the height of the Eiffel Tower, which includes both the original height and the current height with antennas.\n",
            "✅ Parsed Final Answer: The current height of the Eiffel Tower in 2025 is 1,083 feet (approximately 330 meters), including the antennas added over time. Originally, without the antennas, the Eiffel Tower was 1,024 feet (approximately 312 meters) tall.\n",
            "\n",
            "Final Answer: The current height of the Eiffel Tower in 2025 is 1,083 feet (approximately 330 meters), including the antennas added over time. Originally, without the antennas, the Eiffel Tower was 1,024 feet (approximately 312 meters) tall.\n"
          ]
        }
      ]
    },
    {
      "cell_type": "code",
      "source": [],
      "metadata": {
        "id": "ryUFym7Kkw5x"
      },
      "execution_count": null,
      "outputs": []
    }
  ]
}